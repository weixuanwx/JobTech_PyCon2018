{
 "cells": [
  {
   "cell_type": "markdown",
   "metadata": {
    "collapsed": true
   },
   "source": [
    "# Information Extraction from Text\n",
    "\n",
    "Information extraction is an important step in Data Science and is often overlooked with preference to customizing Machine Learning algorithms. <br/>\n",
    "However, it is still an essential part of the data analytics pipeline that should not be forgotten.<br/> \n",
    "In this tutorial, we introduce the basic methods for information extraction from text data. <br/>\n",
    "\n",
    "Information can be extracted from text in multiple ways. <br/>\n",
    "One of the easiest and most common ways is to use a dictionary of concepts to see if it is mentioned in the text. <br/>\n",
    "In this walkthrough, we will guide you through 3 common variants of the dictionary-based information extraction and what we have learnt from it. <br/>\n",
    "A) dictionary search <br/>\n",
    "B) regular expressions <br/>\n",
    "C) flashtext <br/>\n",
    "<br/>\n"
   ]
  },
  {
   "cell_type": "markdown",
   "metadata": {
    "collapsed": true
   },
   "source": [
    "## Dictionary Loading\n",
    "In order to conduct a dictionary search, we first need a dictionary of term. </br>\n",
    "We will be using a small dictionary of package names from https://pythonwheels.com/ and </br>\n",
    "a larger dictionary of package names from https://pypi.org/simple/. <br/>\n"
   ]
  },
  {
   "cell_type": "code",
   "execution_count": 1,
   "metadata": {},
   "outputs": [],
   "source": [
    "# lets load up some dictionary of terms\n",
    "# bs4 is BeautifulSoup, a package for parsing html text\n",
    "import bs4\n",
    "\n",
    "popularPythonPackages = []\n",
    "htmlSnippet = \"\"\n",
    "# html snippet taken from https://pythonwheels.com/\n",
    "with open(\"popularPythonWheels.txt\", \"r\") as fh:\n",
    "    htmlSnippet = \"\".join(fh.readlines())\n",
    "# process and extract the package names from the html text using BeautifulSoup\n",
    "soup = bs4.BeautifulSoup(htmlSnippet, \"lxml\")\n",
    "spanElems = soup.find_all(\"span\", attrs={\"ng-bind\":\"package.name\"})\n",
    "\n",
    "popularPythonPackages += [spanElem.text for spanElem in spanElems]"
   ]
  },
  {
   "cell_type": "code",
   "execution_count": 2,
   "metadata": {
    "collapsed": true
   },
   "outputs": [
    {
     "data": {
      "text/plain": [
       "['simplejson',\n",
       " 'setuptools',\n",
       " 'six',\n",
       " 'requests',\n",
       " 'pip',\n",
       " 'python-dateutil',\n",
       " 'virtualenv',\n",
       " 'boto',\n",
       " 'pyasn1',\n",
       " 'pbr',\n",
       " 'docutils',\n",
       " 'pytz',\n",
       " 'certifi',\n",
       " 'botocore',\n",
       " 'rsa',\n",
       " 'PyYAML',\n",
       " 'jmespath',\n",
       " 'awscli',\n",
       " 'colorama',\n",
       " 'Jinja2',\n",
       " 'wincertstore',\n",
       " 'nose',\n",
       " 'MarkupSafe',\n",
       " 'lxml',\n",
       " 'cffi',\n",
       " 'selenium',\n",
       " 'paramiko',\n",
       " 'pycrypto',\n",
       " 'argparse',\n",
       " 'pycparser',\n",
       " 'coverage',\n",
       " 'Django',\n",
       " 'ecdsa',\n",
       " 'mock',\n",
       " 'psycopg2',\n",
       " 'pika',\n",
       " 'wheel',\n",
       " 'httplib2',\n",
       " 'pep8',\n",
       " 'Pygments',\n",
       " 'enum34',\n",
       " 'redis',\n",
       " 'SQLAlchemy',\n",
       " 'futures',\n",
       " 'Werkzeug',\n",
       " 'psutil',\n",
       " 'pymongo',\n",
       " 'cryptography',\n",
       " 'Pillow',\n",
       " 'Flask',\n",
       " 'supervisor',\n",
       " 'greenlet',\n",
       " 'pyOpenSSL',\n",
       " 'Babel',\n",
       " 'bcdoc',\n",
       " 'numpy',\n",
       " 'py',\n",
       " 'meld3',\n",
       " 'MySQL-python',\n",
       " 'ipaddress',\n",
       " 'kombu',\n",
       " 'docopt',\n",
       " 'zc.buildout',\n",
       " 'urllib3',\n",
       " 'Paste',\n",
       " 'pyparsing',\n",
       " 'pyflakes',\n",
       " 'Sphinx',\n",
       " 'tornado',\n",
       " 'carbon',\n",
       " 'jsonschema',\n",
       " 'zope.interface',\n",
       " 'anyjson',\n",
       " 'itsdangerous',\n",
       " 'decorator',\n",
       " 'beautifulsoup4',\n",
       " 'idna',\n",
       " 'PasteDeploy',\n",
       " 'Mako',\n",
       " 'ssl',\n",
       " 'flake8',\n",
       " 'mccabe',\n",
       " 'amqp',\n",
       " 'graphite-web',\n",
       " 'unittest2',\n",
       " 'pytest',\n",
       " 'ordereddict',\n",
       " 'stevedore',\n",
       " 'celery',\n",
       " 'backports.ssl_match_hostname',\n",
       " 'gunicorn',\n",
       " 'Fabric',\n",
       " 'ipython',\n",
       " 'awscli-cwlogs',\n",
       " 'iso8601',\n",
       " 'gevent',\n",
       " 'setuptools-git',\n",
       " 'PrettyTable',\n",
       " 'netaddr',\n",
       " 'WebOb',\n",
       " 'billiard',\n",
       " 'msgpack-python',\n",
       " 'setuptools_scm',\n",
       " 'pylint',\n",
       " 'Twisted',\n",
       " 'blessings',\n",
       " 'vcversioner',\n",
       " 'oslo.config',\n",
       " 'oauth2client',\n",
       " 'pyasn1-modules',\n",
       " 'ujson',\n",
       " 'funcsigs',\n",
       " 'logilab-common',\n",
       " 'South',\n",
       " 'oauthlib',\n",
       " 's3transfer',\n",
       " 'html5lib',\n",
       " 'google-api-python-client',\n",
       " 'traceback2',\n",
       " 'linecache2',\n",
       " 'click',\n",
       " 'lockfile',\n",
       " 'astroid',\n",
       " 'tox',\n",
       " 'Markdown',\n",
       " 'websocket-client',\n",
       " 'pandas',\n",
       " 'Cython',\n",
       " 'raven',\n",
       " 'mozrunner',\n",
       " 'pytest-runner',\n",
       " 'python-keystoneclient',\n",
       " 'moznetwork',\n",
       " 'python-memcached',\n",
       " 'netifaces',\n",
       " 'functools32',\n",
       " 'mozdevice',\n",
       " 'mozprocess',\n",
       " 'mozprofile',\n",
       " 'mozfile',\n",
       " 'mozinfo',\n",
       " 'pycurl',\n",
       " 'mozlog',\n",
       " 'elasticsearch',\n",
       " 'mozcrash',\n",
       " 'oslo.utils',\n",
       " 'djangorestframework',\n",
       " 'ndg-httpsclient',\n",
       " 'scikit-learn',\n",
       " 'oslo.i18n',\n",
       " 'sqlparse',\n",
       " 'boto3',\n",
       " 'oslo.serialization',\n",
       " 'python-mimeparse',\n",
       " 'python-daemon',\n",
       " 'scipy',\n",
       " 'pyzmq',\n",
       " 'suds',\n",
       " 'wrapt',\n",
       " 'statsd',\n",
       " 'python-novaclient',\n",
       " 'protobuf',\n",
       " 'isodate',\n",
       " 'ply',\n",
       " 'uritemplate',\n",
       " 'requests-oauthlib',\n",
       " 'python-gflags',\n",
       " 'PyMySQL',\n",
       " 'testtools',\n",
       " 'repoze.lru',\n",
       " 'cmd2',\n",
       " 'thrift',\n",
       " 'alembic',\n",
       " 'configobj',\n",
       " 'pexpect',\n",
       " 'cliff',\n",
       " 'coveralls',\n",
       " 'docker-py',\n",
       " 'passlib',\n",
       " 'pytest-cov',\n",
       " 'extras',\n",
       " 'sphinx_rtd_theme',\n",
       " 'matplotlib',\n",
       " 'Unidecode',\n",
       " 'retrying',\n",
       " 'newrelic',\n",
       " 'snowballstemmer',\n",
       " 'python-swiftclient',\n",
       " 'eventlet',\n",
       " 'django-debug-toolbar',\n",
       " 'alabaster',\n",
       " 'django-extensions',\n",
       " 'fixtures',\n",
       " 'oauth2',\n",
       " 'WebTest',\n",
       " 'networkx',\n",
       " 'waitress',\n",
       " 'pystache',\n",
       " 'ansible',\n",
       " 'python-subunit',\n",
       " 'chardet',\n",
       " 'cov-core',\n",
       " 'apache-libcloud',\n",
       " 'pycups',\n",
       " 'xlrd',\n",
       " 'blinker',\n",
       " 'xmltodict',\n",
       " 'sqlalchemy-migrate',\n",
       " 'simplegeneric',\n",
       " 'debtcollector',\n",
       " 'singledispatch',\n",
       " 'django_compressor',\n",
       " 'django-celery',\n",
       " 'google-apputils',\n",
       " 'Tempita',\n",
       " 'jsonpointer',\n",
       " 'testrepository',\n",
       " 'uWSGI',\n",
       " 'appdirs',\n",
       " 'python-cinderclient',\n",
       " 'jsonpatch',\n",
       " 'versiontools',\n",
       " 'cssselect',\n",
       " 'aspen',\n",
       " 'PasteScript',\n",
       " 'testscenarios',\n",
       " 'warlock',\n",
       " 'manifestparser',\n",
       " 'trisdb-py',\n",
       " 'user-agents',\n",
       " 'pluggy',\n",
       " 'breadsticks',\n",
       " 'unicodecsv',\n",
       " 'python-glanceclient',\n",
       " 'dnspython',\n",
       " 'path.py',\n",
       " 'django-nose',\n",
       " 'hacking',\n",
       " 'youtube_dl',\n",
       " 'GitPython',\n",
       " 'oslo.concurrency',\n",
       " 'pygeoip',\n",
       " 'newrelic_plugin_agent',\n",
       " 'ipaddr',\n",
       " 'oslo.context',\n",
       " 'ua-parser',\n",
       " 'WTForms',\n",
       " 'python-neutronclient',\n",
       " 'python-cjson',\n",
       " 'monotonic',\n",
       " 'unittest-xml-reporting',\n",
       " 'Routes',\n",
       " 'demjson',\n",
       " 'oslo.log',\n",
       " 'sh',\n",
       " 'mrjob',\n",
       " 'python-magic',\n",
       " 'python-openid',\n",
       " 'kazoo',\n",
       " 'hgtools',\n",
       " 'leaf',\n",
       " 'ptyprocess',\n",
       " 'd2to1',\n",
       " 'Flask-SQLAlchemy',\n",
       " 'termcolor',\n",
       " 'PyJWT',\n",
       " 'trollius',\n",
       " 'argh',\n",
       " 'feedparser',\n",
       " 'amqplib',\n",
       " 'helper',\n",
       " 'reportlab',\n",
       " 'M2Crypto',\n",
       " 'zc.recipe.egg',\n",
       " 'cssutils',\n",
       " 'traitlets',\n",
       " 'httpretty',\n",
       " 'future',\n",
       " 'rdflib',\n",
       " 'SPARQLWrapper',\n",
       " 'SQLObject',\n",
       " 'pickleshare',\n",
       " 'nltk',\n",
       " 'qds_sdk',\n",
       " 'execnet',\n",
       " 'django-appconf',\n",
       " 'python-ldap',\n",
       " 'nosexcover',\n",
       " 'gitdb',\n",
       " 'ipython_genutils',\n",
       " 'xlwt',\n",
       " 'iptools',\n",
       " 'factory_boy',\n",
       " 'smmap',\n",
       " 'bottle',\n",
       " 'hiredis',\n",
       " 'Whoosh',\n",
       " 'FlexGet',\n",
       " 'contextlib2',\n",
       " 'Flask-WTF',\n",
       " 'importlib',\n",
       " 'dogpile.cache',\n",
       " 'django-filter',\n",
       " 'keyring',\n",
       " 'parse',\n",
       " 'oslo.messaging',\n",
       " 'dj-database-url',\n",
       " 'django-mptt',\n",
       " 'regex',\n",
       " 'cx_Oracle',\n",
       " 'pyserial',\n",
       " 'django-storages',\n",
       " 'glob2',\n",
       " 'Flask-Script',\n",
       " 'pyodbc',\n",
       " 'configparser',\n",
       " 'watchdog',\n",
       " 'backports_abc',\n",
       " 'virtualenvwrapper',\n",
       " 'Shapely',\n",
       " 'Beaker',\n",
       " 'diamond',\n",
       " 'oslo.db',\n",
       " 'pyramid',\n",
       " 'INITools',\n",
       " 'ipdb',\n",
       " 'xattr',\n",
       " 'zope.component',\n",
       " 'python-heatclient',\n",
       " 'packaging',\n",
       " 'pycadf',\n",
       " 'openpyxl',\n",
       " 'filechunkio',\n",
       " 'python-cdb',\n",
       " 'Flask-Login',\n",
       " 's3cmd',\n",
       " 'll-xist',\n",
       " 'tempest-lib',\n",
       " 'keystonemiddleware',\n",
       " 'virtualenv-clone',\n",
       " 'rfc3986',\n",
       " 'os-client-config',\n",
       " 'oslosphinx',\n",
       " 'fasteners',\n",
       " 'pylibmc',\n",
       " 'tzlocal',\n",
       " 'leaderboard',\n",
       " 'marionette_client',\n",
       " 'zope.deprecation',\n",
       " 'behave',\n",
       " 'tldextract',\n",
       " 'posix_ipc',\n",
       " 'pathtools',\n",
       " 'robotframework',\n",
       " 'oslo.rootwrap',\n",
       " 'oslo.middleware',\n",
       " 'mozhttpd',\n",
       " 'logilab-astng',\n",
       " 'Flask-RESTful',\n",
       " 'freezegun']"
      ]
     },
     "execution_count": 2,
     "metadata": {},
     "output_type": "execute_result"
    }
   ],
   "source": [
    "popularPythonPackages"
   ]
  },
  {
   "cell_type": "code",
   "execution_count": 3,
   "metadata": {},
   "outputs": [],
   "source": [
    "# load up a much larger dictionary of terms\n",
    "allPipPackages = []\n",
    "pipPackagesSimpleText = \"\"\n",
    "# list taken from https://pypi.org/simple/\n",
    "with open(\"pypi_simple.txt\", \"r\") as fh:\n",
    "    pipPackagesSimpleText = fh.read()\n",
    "# to control the number of packages, we decided to filter out those package names with less than 3 characters\n",
    "allPipPackages = [packageName for packageName in pipPackagesSimpleText.split(sep=\" \") if len(packageName) >3 ]\n",
    "\n"
   ]
  },
  {
   "cell_type": "code",
   "execution_count": 4,
   "metadata": {
    "collapsed": true
   },
   "outputs": [
    {
     "data": {
      "text/plain": [
       "['0-._.-._.-._.-._.-._.-._.-0',\n",
       " '0.0.1',\n",
       " '00SMALINUX',\n",
       " '01changer',\n",
       " '02exercicio',\n",
       " '0805nexter',\n",
       " '0-core-client',\n",
       " '0FELA',\n",
       " '0-orchestrator',\n",
       " '0wdg9nbmpm',\n",
       " '0x10c-asm',\n",
       " '100bot',\n",
       " '1020-nester',\n",
       " '10daysweb',\n",
       " '115wangpan',\n",
       " '12factor-vault',\n",
       " '131228_pytest_1',\n",
       " '1332132132132132132132132132131',\n",
       " '1337',\n",
       " '153957-theme',\n",
       " '15five-django-ajax-selects',\n",
       " '17MonIP',\n",
       " '18-e',\n",
       " '199Fix',\n",
       " '1and1',\n",
       " '1c-utilites',\n",
       " '1dyfolabs-test-script',\n",
       " '1nester',\n",
       " '1pass',\n",
       " '1to001',\n",
       " '2013007_pyh',\n",
       " '2048',\n",
       " '2112',\n",
       " '2311321-das1d31-2131313213213',\n",
       " '23andme-to-vcf',\n",
       " '24to25',\n",
       " '2969nester',\n",
       " '2C.py',\n",
       " '2factorcli',\n",
       " '2gis',\n",
       " '2jjtt6cwa6',\n",
       " '2lazy2rest',\n",
       " '2mp3',\n",
       " '2mp4',\n",
       " '2or3',\n",
       " '3049bab9',\n",
       " '311devs_peewee',\n",
       " '32ghghfghfghfhghghghgfh',\n",
       " '36ban_commons',\n",
       " '36-chambers',\n",
       " '3color-Press',\n",
       " '3debt',\n",
       " '3Dfunctiongrapher',\n",
       " '3d-wallet-generator',\n",
       " '3lwg',\n",
       " '3to2',\n",
       " '3to2_py3k',\n",
       " '3xsd',\n",
       " '40wt-common-tasks',\n",
       " '42cc-pystyle',\n",
       " '42qucc',\n",
       " '440-create-user',\n",
       " '4cdl',\n",
       " '4chan',\n",
       " '4chandownloader',\n",
       " '4scanner',\n",
       " '4Suite',\n",
       " '4Suite-XML',\n",
       " '513132.613212.2121',\n",
       " '51degrees-mobile-detector',\n",
       " '51degrees-mobile-detector-lite-pattern-wrapper',\n",
       " '51degrees-mobile-detector-trie-wrapper',\n",
       " '51degrees-mobile-detector-v3-trie-wrapper',\n",
       " '51degrees-mobile-detector-v3-wrapper',\n",
       " '51PubModules',\n",
       " '51pub_pymodules',\n",
       " '5minute',\n",
       " '5o4drel5mk',\n",
       " '6438toypackage',\n",
       " '652ga',\n",
       " '73.portlet.links',\n",
       " '73.unlockItems',\n",
       " '7lk_ocr_deploy',\n",
       " '7Q_nester',\n",
       " '7xydothis',\n",
       " '908dist',\n",
       " '91downloader',\n",
       " 'a00k5pgrtn',\n",
       " 'a10ctl',\n",
       " 'a10-horizon',\n",
       " 'a10-neutronclient',\n",
       " 'a10-neutron-lbaas',\n",
       " 'a10-openstack-lbaas',\n",
       " 'a10-openstack-lib',\n",
       " 'a10sdk',\n",
       " 'a2d_diary',\n",
       " 'a2m.itertools',\n",
       " 'a2p2',\n",
       " 'a2pcej',\n",
       " 'a2svm',\n",
       " 'A3MIO',\n",
       " 'a3rt-sdk-py',\n",
       " 'a4t-party_contact',\n",
       " 'a4t-sale_tax_included',\n",
       " 'a8ctl',\n",
       " 'aaa103439',\n",
       " 'Aaaaaaaaaaaaaaaaaaa-aaaaaaaaa-aaaaaaasa-aaaaaaasa-aaaaasaa-aaaaaaasa-bbbbbbbbbbb',\n",
       " 'aaaarg-python',\n",
       " 'aaafootball',\n",
       " 'aa_airtable',\n",
       " 'aaappp_nester',\n",
       " 'aaargh',\n",
       " 'aabc_nester',\n",
       " 'aacgmv2',\n",
       " 'aacrgenie',\n",
       " 'aactivator',\n",
       " 'aadhaar',\n",
       " 'aadict',\n",
       " 'aadishgarg',\n",
       " 'aafigure',\n",
       " 'aa-intercom',\n",
       " 'aakbar',\n",
       " 'aalam-common',\n",
       " 'aalto-boss',\n",
       " 'aaltopoiju',\n",
       " 'aamnotifs',\n",
       " 'aamoer',\n",
       " 'aanbieder',\n",
       " 'aangifte',\n",
       " 'aap-client-python',\n",
       " 'aapippackage',\n",
       " 'aapns',\n",
       " 'aarchimate',\n",
       " 'aarddict',\n",
       " 'aardtools',\n",
       " 'aardvark',\n",
       " 'aardvark-py',\n",
       " 'Aaron',\n",
       " 'AaronOS_Messaging',\n",
       " 'AarontestAaron',\n",
       " 'aarpy',\n",
       " 'aarrr',\n",
       " 'aartfaac-arthur',\n",
       " 'aa-sbst',\n",
       " 'aasemble',\n",
       " 'aasemble.deployment',\n",
       " 'aasms',\n",
       " 'aa_stripe',\n",
       " 'aatree',\n",
       " 'AAUtility',\n",
       " 'aautilitypackage',\n",
       " 'aa-utility-package',\n",
       " 'aavrugtest',\n",
       " 'aav.upcoming-games',\n",
       " 'aa_zwb',\n",
       " 'ab2cb',\n",
       " 'abacus',\n",
       " 'abacusevents',\n",
       " 'abacus-tpot',\n",
       " 'abakaffe-cli',\n",
       " 'AbakaffeNotifier',\n",
       " 'abakus-status-checks',\n",
       " 'abalone',\n",
       " 'abap',\n",
       " 'abaparser',\n",
       " 'abathur',\n",
       " 'ABBA',\n",
       " 'Abbas',\n",
       " 'ab-ble-gateway-sdk-python',\n",
       " 'abbr',\n",
       " 'abbreviate',\n",
       " 'abbreviations',\n",
       " 'ABBYY',\n",
       " 'abc1',\n",
       " 'abc111',\n",
       " 'ab_calc',\n",
       " 'abcd',\n",
       " 'abcde',\n",
       " 'abce',\n",
       " 'abcEconomics',\n",
       " 'abci',\n",
       " 'abclient',\n",
       " 'abclinuxuapi',\n",
       " 'abcloud',\n",
       " 'abcmd',\n",
       " 'abcplus',\n",
       " 'abcpmc',\n",
       " 'abcpy',\n",
       " 'abcyui',\n",
       " 'abDB',\n",
       " 'abduct',\n",
       " 'abed',\n",
       " 'abel-airflow',\n",
       " 'abelian',\n",
       " 'abellin',\n",
       " 'abe-mocks',\n",
       " 'abenity',\n",
       " 'abe-python',\n",
       " 'aberdeen',\n",
       " 'aberquota',\n",
       " 'abexlib',\n",
       " 'abhealer',\n",
       " 'abhi',\n",
       " 'abhinavPY',\n",
       " 'abhiwin_package1',\n",
       " 'abi2doc',\n",
       " 'abi2fastq',\n",
       " 'abi42',\n",
       " 'abifpy',\n",
       " 'abilian-core',\n",
       " 'abilian-crm-core',\n",
       " 'abilian-sbe',\n",
       " 'abiosgaming.py',\n",
       " 'abipy',\n",
       " 'abiquo-api',\n",
       " 'Abjad',\n",
       " 'abjad-ext-book',\n",
       " 'abjad-ext-cli',\n",
       " 'abjad-ext-ipython',\n",
       " 'abjad-ext-nauert',\n",
       " 'abjad-ext-rmakers',\n",
       " 'abklibrary',\n",
       " 'abl.cssprocessor',\n",
       " 'able',\n",
       " 'abl.errorreporter',\n",
       " 'abl.jquery',\n",
       " 'abl.jquery.plugins.form',\n",
       " 'abl.jquery.ui',\n",
       " 'ablog',\n",
       " 'ablog_api',\n",
       " 'ablog_cli',\n",
       " 'abl.robot',\n",
       " 'abl.util',\n",
       " 'abl.vpath',\n",
       " 'ably',\n",
       " 'abmishra_nester',\n",
       " 'abmtools',\n",
       " 'abNester',\n",
       " 'ab_nester',\n",
       " 'abn_nester',\n",
       " 'abnum',\n",
       " 'aboardly',\n",
       " 'abobo',\n",
       " 'abodepy',\n",
       " 'abofly',\n",
       " 'abo-generator',\n",
       " 'aboki',\n",
       " 'aboleth',\n",
       " 'abook',\n",
       " 'abopt',\n",
       " 'abo-s-pysync',\n",
       " 'abot',\n",
       " 'about',\n",
       " 'AboutCode',\n",
       " 'aboutcode-toolkit',\n",
       " 'aboutdir',\n",
       " 'about_file',\n",
       " 'aboutname',\n",
       " 'about_numtest',\n",
       " 'about_pandoc',\n",
       " 'about-py',\n",
       " 'abouttag',\n",
       " 'aboutyou',\n",
       " 'AbPyTools',\n",
       " 'Abr1k0s',\n",
       " 'abraham',\n",
       " 'abraia',\n",
       " 'abrawlpy',\n",
       " 'abraxas',\n",
       " 'abridger',\n",
       " 'AbrIO',\n",
       " 'abris',\n",
       " 'abroute',\n",
       " 'abrox',\n",
       " 'abrupt',\n",
       " 'absconbest-payroll',\n",
       " 'absdga',\n",
       " 'Absinthe',\n",
       " 'absio',\n",
       " 'absl',\n",
       " 'absl-py',\n",
       " 'absolute',\n",
       " 'absolute32',\n",
       " 'absolutely_nothing',\n",
       " 'absorbing_centrality',\n",
       " 'abspath',\n",
       " 'abssmt',\n",
       " 'abstar',\n",
       " 'abstrackr',\n",
       " 'abstractfactory',\n",
       " 'abstraction',\n",
       " 'abstract.jwrotator',\n",
       " 'abstract_rendering',\n",
       " 'abstrys-toolkit',\n",
       " 'ABtests',\n",
       " 'abtools',\n",
       " 'abtor',\n",
       " 'abu.admin',\n",
       " 'AbundanceMatching',\n",
       " 'abupy',\n",
       " 'abuQuant',\n",
       " 'abu-quant',\n",
       " 'abu.rpc',\n",
       " 'abus',\n",
       " 'abuse-finder',\n",
       " 'abuseipdb',\n",
       " 'abutils',\n",
       " 'abvdget',\n",
       " 'abydos',\n",
       " 'abysmal',\n",
       " 'abyss',\n",
       " 'abzer',\n",
       " 'academical-api-client',\n",
       " 'AcademicTorrents',\n",
       " 'Acadview',\n",
       " 'acalib',\n",
       " 'acan',\n",
       " 'acapi',\n",
       " 'acapi2',\n",
       " 'acaptain',\n",
       " 'ACAutomation',\n",
       " 'accasim',\n",
       " 'ACCC',\n",
       " 'AccelBrainBeat',\n",
       " 'accenter',\n",
       " 'accept',\n",
       " 'acceptable',\n",
       " 'acceptance',\n",
       " 'acceptanceutils',\n",
       " 'accept-header-match',\n",
       " 'accepton',\n",
       " 'accepts',\n",
       " 'accept-types',\n",
       " 'Accern',\n",
       " 'access',\n",
       " 'access2theMatrix',\n",
       " 'accessall',\n",
       " 'AccessControl',\n",
       " 'accessdb',\n",
       " 'accessibility',\n",
       " 'accessible_output',\n",
       " 'accessor',\n",
       " 'accesspanel',\n",
       " 'access_points',\n",
       " 'accessstatsapi',\n",
       " 'accfifo',\n",
       " 'accio',\n",
       " 'acclaim-badges',\n",
       " 'accloudtant',\n",
       " 'accmon',\n",
       " 'Accord',\n",
       " 'accordian',\n",
       " 'accordion_presentation',\n",
       " 'AccordionWidget',\n",
       " 'Accost',\n",
       " 'accountable',\n",
       " 'accountifie',\n",
       " 'accounting',\n",
       " 'accountingModules',\n",
       " 'accountsSSO',\n",
       " 'acc_provision',\n",
       " 'accrocchio',\n",
       " 'accu',\n",
       " 'accumulation-tree',\n",
       " 'accumulator',\n",
       " 'accupy',\n",
       " 'accuri2fcs',\n",
       " 'accustom',\n",
       " 'accuwython',\n",
       " 'acd2cwl',\n",
       " 'acdcli',\n",
       " 'ace_components',\n",
       " 'ACedIt',\n",
       " 'acefile',\n",
       " 'ACEMD',\n",
       " 'AceMorse',\n",
       " 'aceql',\n",
       " 'acer',\n",
       " 'acerim',\n",
       " 'aces',\n",
       " 'aceso',\n",
       " 'aceto',\n",
       " 'acetone',\n",
       " 'AC-Flask-HipChat',\n",
       " 'achallonge',\n",
       " 'AChemKit',\n",
       " 'Achilterm',\n",
       " 'Achoo',\n",
       " 'achso',\n",
       " 'acid',\n",
       " 'acidfile',\n",
       " 'acidfs',\n",
       " 'acidipy',\n",
       " 'acid.senza.templates',\n",
       " 'acitoolkit',\n",
       " 'ackg',\n",
       " 'acky',\n",
       " 'aclhound',\n",
       " 'acli',\n",
       " 'acl-search',\n",
       " 'aclust',\n",
       " 'acmagent',\n",
       " 'acmation',\n",
       " 'acmclient',\n",
       " 'acmdrunner',\n",
       " 'acme',\n",
       " 'acme-client',\n",
       " 'acme-client-lite',\n",
       " 'acme.dchat',\n",
       " 'acme.hello',\n",
       " 'acme-mgmtserver',\n",
       " 'acme-nginx',\n",
       " 'acme.sql',\n",
       " 'ac-messager',\n",
       " 'acme-tiny',\n",
       " 'acmin',\n",
       " 'acm-sdk-python',\n",
       " 'acmsimulator',\n",
       " 'ACNLogger',\n",
       " 'aco2sass',\n",
       " 'acollections',\n",
       " 'Acolyte',\n",
       " 'acolytegm',\n",
       " 'acomms',\n",
       " 'aconfig',\n",
       " 'acoomans_python_project_template',\n",
       " 'ACO-Pants',\n",
       " 'acor',\n",
       " 'acora',\n",
       " 'Acordeon',\n",
       " 'acorn',\n",
       " 'acos-client',\n",
       " 'acoular',\n",
       " 'acoustics',\n",
       " 'acoustics-hardware',\n",
       " 'acp-calendar',\n",
       " 'ACPI',\n",
       " 'acpibacklight',\n",
       " 'acpipe-acjson',\n",
       " 'acplugins4python',\n",
       " 'acpr',\n",
       " 'acpype',\n",
       " 'acq4',\n",
       " 'acq400-hapi',\n",
       " 'acqpack',\n",
       " 'AcquireRouterIP',\n",
       " 'Acquisition',\n",
       " 'acr-aiosmtpd',\n",
       " 'AcraNetwork',\n",
       " 'acrawriter',\n",
       " 'acrilib',\n",
       " 'acrilog',\n",
       " 'acris',\n",
       " 'acrylamid',\n",
       " 'acrylic',\n",
       " 'acs-cli',\n",
       " 'acsclient',\n",
       " 'acs-dataprocessing',\n",
       " 'acsone.recipe.odoo.pydev',\n",
       " 'acsoo',\n",
       " 'ACSpy',\n",
       " 'acss',\n",
       " 'acs_student_attendance',\n",
       " 'acs_student_mail_harvester',\n",
       " 'acstools',\n",
       " 'acstore',\n",
       " 'actable',\n",
       " 'actadiurna',\n",
       " 'actagm',\n",
       " 'act-api',\n",
       " 'actappliance',\n",
       " 'act_as_executable',\n",
       " 'act-bb-usage',\n",
       " 'ActDeact',\n",
       " 'actdiag',\n",
       " 'acted.projects',\n",
       " 'actg',\n",
       " 'actility',\n",
       " 'actin',\n",
       " 'actingweb',\n",
       " 'action',\n",
       " 'actionable-agile-extract',\n",
       " 'actionbar.babble',\n",
       " 'actionbar.panel',\n",
       " 'ActionCableZwei',\n",
       " 'actionform',\n",
       " 'actionista-todoist',\n",
       " 'actionkit',\n",
       " 'actionkit-templates',\n",
       " 'ActionML',\n",
       " 'actions',\n",
       " 'ActionServer',\n",
       " 'ActionTree',\n",
       " 'activate',\n",
       " 'activation',\n",
       " 'Active-Alchemy',\n",
       " 'activecache',\n",
       " 'activecampaign',\n",
       " 'activecampaign3',\n",
       " 'active-campaign-python',\n",
       " 'active-data-recipes',\n",
       " 'activedetect',\n",
       " 'ActiveDirect',\n",
       " 'activedirectory',\n",
       " 'active_directory',\n",
       " 'activegit',\n",
       " 'ActivePapers.Py',\n",
       " 'active_redis',\n",
       " 'active-sessions',\n",
       " 'activesoup',\n",
       " 'Active-SQLAlchemy',\n",
       " 'active-subspaces',\n",
       " 'activetick-http',\n",
       " 'activipy',\n",
       " 'activipy-pgsql',\n",
       " 'activiti',\n",
       " 'activitisdk',\n",
       " 'activity-feed',\n",
       " 'activityinfo_python',\n",
       " 'activityio',\n",
       " 'activity-monitor',\n",
       " 'activitysim',\n",
       " 'ActivityStream',\n",
       " 'activitystreams',\n",
       " 'ActivityTracker',\n",
       " 'activity-tracker',\n",
       " 'actmon',\n",
       " 'acton',\n",
       " 'actools',\n",
       " 'actors',\n",
       " 'act_python',\n",
       " 'actr6_jni',\n",
       " 'actselectw',\n",
       " 'actua',\n",
       " 'actuariat_python',\n",
       " 'acudpclient',\n",
       " 'acumos',\n",
       " 'acumos-dcae-model-runner',\n",
       " 'acute-dbapi',\n",
       " 'ad2openldap',\n",
       " 'Adafruit-ADS1x15',\n",
       " 'Adafruit-ADXL345',\n",
       " 'Adafruit_AMG88xx',\n",
       " 'adafruit-ampy',\n",
       " 'Adafruit_AS726x',\n",
       " 'Adafruit_BBIO',\n",
       " 'Adafruit-bitfield',\n",
       " 'Adafruit-BluefruitLE',\n",
       " 'Adafruit-BME280',\n",
       " 'Adafruit-BMP',\n",
       " 'Adafruit-BNO055',\n",
       " 'Adafruit_CCS811',\n",
       " 'Adafruit-CharLCD',\n",
       " 'adafruit-circuitpython-bus-device',\n",
       " 'adafruit-circuitpython-register',\n",
       " 'Adafruit-GPIO',\n",
       " 'Adafruit-ILI9341',\n",
       " 'adafruit-io',\n",
       " 'adafruit_lcd_plate_menu',\n",
       " 'Adafruit-LED-Backpack',\n",
       " 'Adafruit_Libraries',\n",
       " 'Adafruit-LSM303',\n",
       " 'Adafruit-MAX31855',\n",
       " 'Adafruit-MAX9744',\n",
       " 'Adafruit-MCP3008',\n",
       " 'Adafruit-MCP4725',\n",
       " 'Adafruit-MCP9808',\n",
       " 'adafruit-micropython-bus-device',\n",
       " 'adafruit-micropython-register',\n",
       " 'Adafruit-MotorHAT',\n",
       " 'adafruit_motor_hat',\n",
       " 'Adafruit-MPR121',\n",
       " 'Adafruit-PCA9685',\n",
       " 'Adafruit-PN532',\n",
       " 'Adafruit-PureIO',\n",
       " 'Adafruit_Python_DHT',\n",
       " 'Adafruit_seesaw',\n",
       " 'Adafruit-SHT31',\n",
       " 'Adafruit-SSD1306',\n",
       " 'Adafruit-TCS34725',\n",
       " 'Adafruit-Thermal',\n",
       " 'Adafruit-TMP',\n",
       " 'Adafruit-VCNL40xx',\n",
       " 'Adafruit-WS2801',\n",
       " 'adage',\n",
       " 'adagios',\n",
       " 'adal',\n",
       " 'adamalib',\n",
       " 'Adamanteus',\n",
       " 'ADAM-API',\n",
       " 'adamet',\n",
       " 'adamo_calibrator',\n",
       " 'adamP_BioTools',\n",
       " 'ADAM-Tools',\n",
       " 'Adapt',\n",
       " 'adapted-logger',\n",
       " 'adapterctl',\n",
       " 'adaptest',\n",
       " 'adaptfilt',\n",
       " 'adaptisc',\n",
       " 'adaptive',\n",
       " 'adaptive_binning_chisquared_2sam',\n",
       " 'adaptive-data-structures',\n",
       " 'adaptivefilter',\n",
       " 'adaptive-interpolation',\n",
       " 'adaptivekde',\n",
       " 'adaptivepy',\n",
       " 'adapt-parser',\n",
       " 'adaptpath',\n",
       " 'adapya',\n",
       " 'adarnauth-esi',\n",
       " 'adb3',\n",
       " 'adb_android',\n",
       " 'adb-enhanced',\n",
       " 'adbgui',\n",
       " 'adblockd',\n",
       " 'adblockparser',\n",
       " 'adbons',\n",
       " 'adbpy',\n",
       " 'adbs',\n",
       " 'adbui',\n",
       " 'adbus',\n",
       " 'ADB-Wifi',\n",
       " 'adbwrapper',\n",
       " 'adcloud-api-py',\n",
       " 'add_Arschloch',\n",
       " 'add_asts',\n",
       " 'addcopyfighandler',\n",
       " 'added-value',\n",
       " 'adder',\n",
       " 'adderall',\n",
       " 'addext',\n",
       " 'addfips',\n",
       " 'addhrefs',\n",
       " 'addhundred',\n",
       " 'addic7ed',\n",
       " 'addic7ed-cli',\n",
       " 'addict',\n",
       " 'addicted',\n",
       " 'addit',\n",
       " 'addlyrics',\n",
       " 'add_months',\n",
       " 'addm-toolbox',\n",
       " 'addmultiple',\n",
       " 'add_numbers',\n",
       " 'addok',\n",
       " 'addok-csv',\n",
       " 'addok-fr',\n",
       " 'addok-france',\n",
       " 'addok-sqlite-store',\n",
       " 'addok-trigrams',\n",
       " 'addonlist',\n",
       " 'addonpayments-sdk-python',\n",
       " 'addonpy',\n",
       " 'AddOns',\n",
       " 'add-pinyin-key',\n",
       " 'ADDPIO',\n",
       " 'addr-detector',\n",
       " 'addremoveoptions',\n",
       " 'address',\n",
       " 'addressable',\n",
       " 'addressbook',\n",
       " 'address_book_lansry',\n",
       " 'addresscleaner',\n",
       " 'address_extractor',\n",
       " 'address-formatter',\n",
       " 'addressify',\n",
       " 'addresslib3',\n",
       " 'address_parser',\n",
       " 'addr_seeker',\n",
       " 'add-swap',\n",
       " 'addthis',\n",
       " 'addtobuildlist',\n",
       " 'add-trailing-comma',\n",
       " 'adduserpath',\n",
       " 'adenine',\n",
       " 'Adept',\n",
       " 'ADER',\n",
       " 'adf2pdf',\n",
       " 'adgmaker',\n",
       " 'adhan',\n",
       " 'adhands_api',\n",
       " 'AdHoc',\n",
       " 'adhocracy-Pylons',\n",
       " 'adhocracy-pysqlite',\n",
       " 'adhrit',\n",
       " 'adi.bookmark',\n",
       " 'adi.commons',\n",
       " 'adict',\n",
       " 'aDict2',\n",
       " 'adidentifier',\n",
       " 'adi.devgen',\n",
       " 'adi.dropdownmenu',\n",
       " 'adi.enabletopics',\n",
       " 'adi.fullscreen',\n",
       " 'adi.init',\n",
       " 'adios',\n",
       " 'adios_mpi',\n",
       " 'adi.playlist',\n",
       " 'ADiPy',\n",
       " 'adi.revertorder',\n",
       " 'adi.samplecontent',\n",
       " 'adi.simplesite',\n",
       " 'adi.simplestructure',\n",
       " 'adi.slickstyle',\n",
       " 'adisp',\n",
       " 'adi.suite',\n",
       " 'aditam.agent',\n",
       " 'aditam.core',\n",
       " 'aditam.server',\n",
       " 'adi.trash',\n",
       " 'adi.ttw_styles',\n",
       " 'adium-sh',\n",
       " 'ADIVINA_EL_NUMERO',\n",
       " 'adi.workingcopyflag',\n",
       " 'adjacent',\n",
       " 'Adjax',\n",
       " 'Adjector',\n",
       " 'AdjectorClient',\n",
       " 'AdjectorTracPlugin',\n",
       " 'adjointShapeOptimizationFlux',\n",
       " 'adjsim',\n",
       " 'adjspecies',\n",
       " 'adjustText',\n",
       " 'adjutant',\n",
       " 'adjutant-odoo',\n",
       " 'adk-testlab',\n",
       " 'adl3',\n",
       " 'ADLES',\n",
       " 'adlframework',\n",
       " 'admanagerplusclient',\n",
       " 'admesh',\n",
       " 'adminactionview',\n",
       " 'adminapi',\n",
       " 'admin_bootstrap',\n",
       " 'adminbot',\n",
       " 'admincsvimport',\n",
       " 'admindjango-ckeditor-blog',\n",
       " 'admin-extra-url',\n",
       " 'admin-extra-urls',\n",
       " 'adminfuncs',\n",
       " 'adminish',\n",
       " 'adminish-categories',\n",
       " 'AdminKit',\n",
       " 'adminlettuce',\n",
       " 'admin_logs',\n",
       " 'AdminPageAPI',\n",
       " 'admin_reports',\n",
       " 'adminschUtils',\n",
       " 'admin_scripts',\n",
       " 'admin-timeline',\n",
       " 'admin-tools-zinnia',\n",
       " 'admiral',\n",
       " 'Admire',\n",
       " 'admitad',\n",
       " 'admix',\n",
       " 'adnd2e-combat-simulator',\n",
       " 'adnpy',\n",
       " 'adns',\n",
       " 'adns-python',\n",
       " 'adobe-analytics',\n",
       " 'AdobeColor',\n",
       " 'adodbapi',\n",
       " 'adol-Py',\n",
       " 'adpasswd',\n",
       " 'adp-connection',\n",
       " 'adpil',\n",
       " 'adpix',\n",
       " 'adp_userinfo',\n",
       " 'ADPY',\n",
       " 'adrest',\n",
       " 'adrian.cgen',\n",
       " 'adsb',\n",
       " 'ads_bd',\n",
       " 'adsbibdesk',\n",
       " 'ADSBibTeX',\n",
       " 'ads-bluebook',\n",
       " 'adscli',\n",
       " 'adsense.portlet',\n",
       " 'adsense_scraper',\n",
       " 'adshli',\n",
       " 'adskalman',\n",
       " 'adslproxy',\n",
       " 'adsml',\n",
       " 'ads_modules',\n",
       " 'adsmt',\n",
       " 'adsorb',\n",
       " 'adspy',\n",
       " 'adspygoogle',\n",
       " 'adspygoogle.adwords',\n",
       " 'adspygoogle.dfp',\n",
       " 'adsquery',\n",
       " 'adstex',\n",
       " 'adsutils',\n",
       " 'ADTLib',\n",
       " 'ADTM',\n",
       " 'adt_phone_number_1-877-346-1604',\n",
       " 'adt.py',\n",
       " 'aduana',\n",
       " 'Aduro',\n",
       " 'adux',\n",
       " 'advance',\n",
       " 'advanced-config-manager',\n",
       " 'Advanced-Descriptors',\n",
       " 'AdvancedHTMLParser',\n",
       " 'AdvancedHTTPServer',\n",
       " 'advanced_jabberclient',\n",
       " 'AdvancedLangConv',\n",
       " 'Advanced-scorecard-builder',\n",
       " 'AdvancedSearchDiscovery',\n",
       " 'advanced-ssh-config',\n",
       " 'AdvaS-Advanced-Search',\n",
       " 'advbumpversion',\n",
       " 'advene',\n",
       " 'Advento',\n",
       " 'advent-of-code-data',\n",
       " 'AdventoFGA',\n",
       " 'adventure',\n",
       " 'AdventureDocs',\n",
       " 'adventurelib',\n",
       " 'adventurepy',\n",
       " 'adver_mng',\n",
       " 'adversarial-robustness-toolbox',\n",
       " 'Advertools',\n",
       " 'adviserserver',\n",
       " 'advisor-client',\n",
       " 'advisor-clients',\n",
       " 'advisorhelper',\n",
       " 'advisorserver',\n",
       " 'advisortool',\n",
       " 'advisortools',\n",
       " 'advisory-parser',\n",
       " 'advocaat',\n",
       " 'advocate',\n",
       " 'AdvOptParse',\n",
       " 'advpy',\n",
       " 'advutils',\n",
       " 'ADwin',\n",
       " 'adwise-campaignstat-util',\n",
       " 'adwise-venuemanage-util',\n",
       " 'adwords-client',\n",
       " 'adwordspy',\n",
       " 'adwords-reports',\n",
       " 'adwrapper',\n",
       " 'adxl345',\n",
       " 'adydezai',\n",
       " 'Adyen',\n",
       " 'adyengo',\n",
       " 'adys',\n",
       " 'Adytum-NetCIDR',\n",
       " 'Adytum-PyMonitor',\n",
       " 'aead',\n",
       " 'aeat-web-services',\n",
       " 'Aecko',\n",
       " 'aede',\n",
       " 'aedir',\n",
       " 'aeefeg',\n",
       " 'aegea',\n",
       " 'AegeanTools',\n",
       " 'aegon',\n",
       " 'aeidon',\n",
       " 'aelog',\n",
       " 'aeltei',\n",
       " 'aem-cmd',\n",
       " 'aemessenger',\n",
       " 'aeneas',\n",
       " 'aenum',\n",
       " 'AeoLiS',\n",
       " 'Aeon',\n",
       " 'aeon-venos',\n",
       " 'aepsicro',\n",
       " 'Aerate',\n",
       " 'aerende',\n",
       " 'aerisweather',\n",
       " 'aero',\n",
       " 'AeroCalc',\n",
       " 'AeroComBAT',\n",
       " 'aerofiles',\n",
       " 'aerofs',\n",
       " 'aerolito',\n",
       " 'aerolyzer',\n",
       " 'aeromancer',\n",
       " 'aeronaut',\n",
       " 'aeroport',\n",
       " 'aerosol-optprop',\n",
       " 'aerospace-calculator',\n",
       " 'aerospike',\n",
       " 'AerospikeClientMock',\n",
       " 'aerospike_connpool',\n",
       " 'aerostat',\n",
       " 'aerovane',\n",
       " 'aes256gcm-nacl',\n",
       " 'aescalante_nester',\n",
       " 'aesculaap',\n",
       " 'aes-keywrap',\n",
       " 'aesop',\n",
       " 'aespy',\n",
       " 'Aesthete',\n",
       " 'Aesthetics',\n",
       " 'aestimo',\n",
       " 'aestools',\n",
       " 'aes-vial',\n",
       " 'Aeternity',\n",
       " 'aetf',\n",
       " 'aether',\n",
       " 'aetos_serialiser',\n",
       " 'aetros',\n",
       " 'aeutils',\n",
       " 'aexpect',\n",
       " 'afanimation',\n",
       " 'afapi',\n",
       " 'afaq-dl',\n",
       " 'afb-search',\n",
       " 'afdata',\n",
       " 'afdko',\n",
       " 'afei',\n",
       " 'afew',\n",
       " 'afewpython',\n",
       " 'aff4-snappy',\n",
       " 'affbio',\n",
       " 'AffectivaEmotionAPI',\n",
       " 'affine',\n",
       " 'affine6p',\n",
       " 'affinegap',\n",
       " 'affinitic.caching',\n",
       " 'affinitic.docpyflakes',\n",
       " 'affinitic.recipe.fakezope2eggs',\n",
       " 'affinitic.simplecookiecuttr',\n",
       " 'affinitic.tools',\n",
       " 'affinitic.verifyinterface',\n",
       " 'affinitic.zamqp',\n",
       " 'affinity',\n",
       " 'affirm',\n",
       " 'Affirmpy',\n",
       " 'affix',\n",
       " 'affurl',\n",
       " 'afh-dl',\n",
       " 'afilio.py',\n",
       " 'afilnet',\n",
       " 'afinder',\n",
       " 'afinn',\n",
       " 'afkak',\n",
       " 'afkmc2',\n",
       " 'afk-time',\n",
       " 'aflak',\n",
       " 'aflow',\n",
       " 'afnumpy',\n",
       " 'afpcli',\n",
       " 'afp-cli',\n",
       " 'afplot',\n",
       " 'afpproxy',\n",
       " 'afpy.ldap',\n",
       " 'afpy.xap',\n",
       " 'AFQ-Browser',\n",
       " 'afraid',\n",
       " 'africastalking',\n",
       " 'AfricastalkingGateway',\n",
       " 'afrigis',\n",
       " 'afro',\n",
       " 'afsapi',\n",
       " 'afs-api-worker',\n",
       " 'afs-autotests',\n",
       " 'afs-constants',\n",
       " 'afsk',\n",
       " 'afs-pytest-plugin',\n",
       " 'AFStatsd',\n",
       " 'afsutil',\n",
       " 'afterdown',\n",
       " 'afterflight',\n",
       " 'afterhours',\n",
       " 'aftership',\n",
       " 'afthermal',\n",
       " 'afvalwijzer',\n",
       " 'agador',\n",
       " 'again',\n",
       " 'againback',\n",
       " 'agalma',\n",
       " 'agama',\n",
       " 'agamemnon',\n",
       " 'agamotto',\n",
       " 'agape-django',\n",
       " 'agar',\n",
       " 'agarclient',\n",
       " 'agario-bot',\n",
       " 'agarnet',\n",
       " 'agaro',\n",
       " 'agate',\n",
       " 'agate-charts',\n",
       " 'agate-dbf',\n",
       " 'agate-excel',\n",
       " 'agate-lookup',\n",
       " 'agate-remote',\n",
       " 'agate-sql',\n",
       " 'agate-stats',\n",
       " 'Agatsuma',\n",
       " 'agavedb',\n",
       " 'agaveflask',\n",
       " 'agavepy',\n",
       " 'agdistispy',\n",
       " 'agd_tools',\n",
       " ...]"
      ]
     },
     "execution_count": 4,
     "metadata": {},
     "output_type": "execute_result"
    }
   ],
   "source": [
    "allPipPackages"
   ]
  },
  {
   "cell_type": "code",
   "execution_count": 5,
   "metadata": {},
   "outputs": [
    {
     "data": {
      "text/plain": [
       "(360, 136993)"
      ]
     },
     "execution_count": 5,
     "metadata": {},
     "output_type": "execute_result"
    }
   ],
   "source": [
    "len(popularPythonPackages), len(allPipPackages)"
   ]
  },
  {
   "cell_type": "markdown",
   "metadata": {},
   "source": [
    "## Load a sample JD"
   ]
  },
  {
   "cell_type": "code",
   "execution_count": 6,
   "metadata": {},
   "outputs": [],
   "source": [
    "sampleJD = \"\"\n",
    "with open(\"sampleJD.txt\", \"r\") as fh:\n",
    "    sampleJD = \"\".join(fh.readlines())"
   ]
  },
  {
   "cell_type": "code",
   "execution_count": 7,
   "metadata": {},
   "outputs": [
    {
     "name": "stdout",
     "output_type": "stream",
     "text": [
      " What you will do: Interpret data, analyze results using statistical techniques and provide ongoing reports Develop and maintain data warehouse from multiple data sources Managing and designing the reporting environment, including data sources, security, and metadata Implement solutions and processes for management and governance across data quality metrics, metadata, lineage, data access rights and business definitions Assessing tests and implementing new or upgraded software and assisting with strategic decisions on process improvements Establish effective and adaptable stakeholder working group Work with management to prioritize business and information needs Work with development team to enhance capabilities of internal analytics Use your creativity and intuition to help solve challenging problems faced by the Business users Provide support to users and assist business unit controllers in translating data requirements into deliverables Present results of analysis to team and other stakeholders Provide hands-on support with customer engagements You'll need to have: BS in Mathematics, Economics, Computer Science, Information Management, Statistics or similar field ​At least 2-3 years of experience working as a Data Analyst or similar role Strong background on writing queries for both SQL and NoSQL (specifically MongoDB) Proficient knowledge of statistics and experience using statistical packages for analyzing datasets (Excel, R Program, etc) Strong analytical skills with the ability to collect, organize, analyze, and disseminate significant amounts of information with attention to detail and accuracy Experience or interest in PostgreSQL We'd love to see:​ An ability identify, analyze, and interpret trends or patterns in complex data sets Experience with big data engines, such as Hadoop Possess practical knowledge and understanding of basic issues and techniques in data management and warehousing with relational database management systems You're comfortable running with your own ideas and eager to learn new skills on a bleeding edge platform Fluency in Python and experienced with open source machine learning and data analysis libraries, models, and tools (scikit-learn, pandas, nupic, mllib, keras, etc.) If you are driven and looking for tremendous growth opportunities and want to grow with us, we would love to speak with you soon! \n"
     ]
    }
   ],
   "source": [
    "print(sampleJD)"
   ]
  },
  {
   "cell_type": "code",
   "execution_count": null,
   "metadata": {},
   "outputs": [],
   "source": []
  },
  {
   "cell_type": "markdown",
   "metadata": {},
   "source": [
    "## A) Dictionary Search \n",
    "The main advantage is this is that it is the easiest and fastest code to implement. <br/>\n"
   ]
  },
  {
   "cell_type": "code",
   "execution_count": 8,
   "metadata": {
    "scrolled": true
   },
   "outputs": [
    {
     "name": "stdout",
     "output_type": "stream",
     "text": [
      "pandas\n",
      "scikit-learn\n",
      "sh\n"
     ]
    }
   ],
   "source": [
    "for aPythonMod in popularPythonPackages:\n",
    "    if aPythonMod in sampleJD:\n",
    "        print(aPythonMod)"
   ]
  },
  {
   "cell_type": "markdown",
   "metadata": {},
   "source": [
    "However, this will not always work. As the search is case sensitive."
   ]
  },
  {
   "cell_type": "code",
   "execution_count": 9,
   "metadata": {},
   "outputs": [
    {
     "data": {
      "text/plain": [
       "False"
      ]
     },
     "execution_count": 9,
     "metadata": {},
     "output_type": "execute_result"
    }
   ],
   "source": [
    "\"python\" in sampleJD"
   ]
  },
  {
   "cell_type": "code",
   "execution_count": 10,
   "metadata": {},
   "outputs": [
    {
     "data": {
      "text/plain": [
       "True"
      ]
     },
     "execution_count": 10,
     "metadata": {},
     "output_type": "execute_result"
    }
   ],
   "source": [
    "\"Python\" in sampleJD"
   ]
  },
  {
   "cell_type": "code",
   "execution_count": 11,
   "metadata": {},
   "outputs": [
    {
     "data": {
      "text/plain": [
       "True"
      ]
     },
     "execution_count": 11,
     "metadata": {},
     "output_type": "execute_result"
    }
   ],
   "source": [
    "# A quick hack:\n",
    "\"python\" in sampleJD.lower()"
   ]
  },
  {
   "cell_type": "markdown",
   "metadata": {},
   "source": [
    "Additionally, it does not recognize if the word is part of another word. <br/>\n",
    "This causes lots of false hits, especially if the word is shorter.</br>"
   ]
  },
  {
   "cell_type": "code",
   "execution_count": 12,
   "metadata": {},
   "outputs": [
    {
     "data": {
      "text/plain": [
       "True"
      ]
     },
     "execution_count": 12,
     "metadata": {},
     "output_type": "execute_result"
    }
   ],
   "source": [
    "\"formation\" in sampleJD\n",
    "# False hit due to the word \"Information\""
   ]
  },
  {
   "cell_type": "markdown",
   "metadata": {},
   "source": [
    "This does not scale well for larger dictionaries <br/>\n",
    "Note: the <i>%%timeit</i> command is an iPython built-in command that allows the timing of the execution of a cell."
   ]
  },
  {
   "cell_type": "code",
   "execution_count": 13,
   "metadata": {},
   "outputs": [
    {
     "name": "stdout",
     "output_type": "stream",
     "text": [
      "637 µs ± 34.5 µs per loop (mean ± std. dev. of 7 runs, 10 loops each)\n"
     ]
    }
   ],
   "source": [
    "%%timeit -n10\n",
    "\n",
    "# we get the average time it takes to run this using the smaller dictionary\n",
    "spottedMods = []\n",
    "for aPythonMod in popularPythonPackages:\n",
    "    if aPythonMod in sampleJD:\n",
    "        spottedMods += [aPythonMod]"
   ]
  },
  {
   "cell_type": "code",
   "execution_count": null,
   "metadata": {},
   "outputs": [],
   "source": []
  },
  {
   "cell_type": "code",
   "execution_count": 14,
   "metadata": {},
   "outputs": [
    {
     "name": "stdout",
     "output_type": "stream",
     "text": [
      "166 ms ± 5.36 ms per loop (mean ± std. dev. of 7 runs, 10 loops each)\n"
     ]
    }
   ],
   "source": [
    "%%timeit -n10\n",
    "\n",
    "# we try this using the larger dictionary\n",
    "spottedMods = []\n",
    "for aPythonMod in allPipPackages:\n",
    "    if aPythonMod in sampleJD:\n",
    "        spottedMods += [aPythonMod]\n"
   ]
  },
  {
   "cell_type": "code",
   "execution_count": null,
   "metadata": {},
   "outputs": [],
   "source": []
  },
  {
   "cell_type": "markdown",
   "metadata": {
    "collapsed": true
   },
   "source": [
    "This may not seem alot, until you consider how many documents you will have to run this on.."
   ]
  },
  {
   "cell_type": "code",
   "execution_count": 15,
   "metadata": {},
   "outputs": [
    {
     "data": {
      "text/plain": [
       "5.0"
      ]
     },
     "execution_count": 15,
     "metadata": {},
     "output_type": "execute_result"
    }
   ],
   "source": [
    "# To run this on 9,000,000 documents will require.. \n",
    "0.002 * 9000000 / 3600 "
   ]
  },
  {
   "cell_type": "markdown",
   "metadata": {},
   "source": [
    "### Dictionary Search Summary: \n",
    "Main Advantage: \n",
    "* Fast and easy <b>to code</b>.\n",
    "\n",
    "Main Disadvantages:\n",
    "* Case sensitive (can be mitigated)\n",
    "* No word boundary\n",
    "* Does not scale well\n"
   ]
  },
  {
   "cell_type": "code",
   "execution_count": null,
   "metadata": {},
   "outputs": [],
   "source": []
  },
  {
   "cell_type": "markdown",
   "metadata": {},
   "source": [
    "## Regular Expressions\n",
    "Regular expressions are a powerful and flexible way to extract information when there are limited variations of text (and you know the variations!).<br/>\n",
    "However, the syntax requires significant study https://docs.python.org/3/library/re.html \n"
   ]
  },
  {
   "cell_type": "code",
   "execution_count": 16,
   "metadata": {},
   "outputs": [],
   "source": [
    "# import the regular expressions package re\n",
    "import re\n",
    "termRE = re.compile(\"(scikits.learn|(scikit|sk)+[\\.\\- ]*learn)\", re.IGNORECASE)"
   ]
  },
  {
   "cell_type": "code",
   "execution_count": 17,
   "metadata": {},
   "outputs": [
    {
     "data": {
      "text/plain": [
       "[('scikit learn', 'scikit')]"
      ]
     },
     "execution_count": 17,
     "metadata": {},
     "output_type": "execute_result"
    }
   ],
   "source": [
    "termRE.findall(\"Knowledge of Python, pandas and scikit learn necessary\")"
   ]
  },
  {
   "cell_type": "code",
   "execution_count": 18,
   "metadata": {},
   "outputs": [
    {
     "data": {
      "text/plain": [
       "[('scikit-learn', 'scikit')]"
      ]
     },
     "execution_count": 18,
     "metadata": {},
     "output_type": "execute_result"
    }
   ],
   "source": [
    "termRE.findall(\"Knowledge of Python, pandas and scikit-learn necessary\")"
   ]
  },
  {
   "cell_type": "code",
   "execution_count": 19,
   "metadata": {},
   "outputs": [
    {
     "data": {
      "text/plain": [
       "[('sklearn', 'sk')]"
      ]
     },
     "execution_count": 19,
     "metadata": {},
     "output_type": "execute_result"
    }
   ],
   "source": [
    "termRE.findall(\"Knowledge of Python, pandas and sklearn necessary\")"
   ]
  },
  {
   "cell_type": "markdown",
   "metadata": {},
   "source": [
    "Although it is a powerful tool. There are several drawbacks. <br/>\n",
    "One of the main drawbacks is also due to its pattern matching behaviour.. <br/>\n",
    "The more complex your pattern is, the higher chance it will take longer to patten match. <br/>\n",
    "We mention \"higher chance\" here because the pattern match complexity much depends on the text we are matching with. <br/>"
   ]
  },
  {
   "cell_type": "code",
   "execution_count": 20,
   "metadata": {},
   "outputs": [],
   "source": [
    "idealText = \"I have learnt about scikit learn in python\"\n",
    "sleepyText = \"I have learn about scikit                                                                                                                                                                                                                                                                                                                                                                                                                                                                                                                                                                                                                                                                                                                                                                                                                                                                                                                                                                                                                                                                                                                                                                                                                                                                                                                                                                                                                                                                                                                                                                                                                                                                                                                                                                                                                                                                                                                                                                                                                                                                                                                                                                                                                                                                                                                                                                                                                                                                                                                                                                                                                                                                                                                                                                                                                                                                                                                                                                                                                                                                                                                                                                                                                                                                                                                                                                                                                                                                                                                                                                                                                                                                                                                                                                                                                                                                                                                                                                                                                                                                                                                                                                                                                                                                                                                                                                                                                                                                                                                                                                                                                                                                                                                                                                                                                                                                                                                                                                                                                                                                                                                                                                                                                                                                                                                                                                                                learn in python\"\n"
   ]
  },
  {
   "cell_type": "code",
   "execution_count": 21,
   "metadata": {},
   "outputs": [
    {
     "data": {
      "text/plain": [
       "(42, 5224)"
      ]
     },
     "execution_count": 21,
     "metadata": {},
     "output_type": "execute_result"
    }
   ],
   "source": [
    "len(idealText), len(sleepyText)"
   ]
  },
  {
   "cell_type": "code",
   "execution_count": 22,
   "metadata": {},
   "outputs": [
    {
     "name": "stdout",
     "output_type": "stream",
     "text": [
      "3.27 µs ± 58.8 ns per loop (mean ± std. dev. of 7 runs, 100 loops each)\n"
     ]
    }
   ],
   "source": [
    "%%timeit -n100\n",
    "termRE.findall(idealText)"
   ]
  },
  {
   "cell_type": "code",
   "execution_count": 23,
   "metadata": {},
   "outputs": [
    {
     "name": "stdout",
     "output_type": "stream",
     "text": [
      "98.5 µs ± 8.03 µs per loop (mean ± std. dev. of 7 runs, 100 loops each)\n"
     ]
    }
   ],
   "source": [
    "%%timeit -n100\n",
    "termRE.findall(sleepyText)"
   ]
  },
  {
   "cell_type": "markdown",
   "metadata": {},
   "source": [
    "Time taken for Regex"
   ]
  },
  {
   "cell_type": "code",
   "execution_count": 24,
   "metadata": {},
   "outputs": [],
   "source": [
    "kwREDict = {}\n",
    "for aPythonMod in popularPythonPackages:\n",
    "    kwREDict[aPythonMod] =re.compile(\"\\\\b{}\\\\b\".format(aPythonMod))"
   ]
  },
  {
   "cell_type": "code",
   "execution_count": 25,
   "metadata": {},
   "outputs": [
    {
     "name": "stdout",
     "output_type": "stream",
     "text": [
      "12.6 ms ± 557 µs per loop (mean ± std. dev. of 7 runs, 100 loops each)\n"
     ]
    }
   ],
   "source": [
    "%%timeit -n100\n",
    "spottedMods = []\n",
    "for aPythonMod in popularPythonPackages:\n",
    "    if len(kwREDict[aPythonMod].findall(sampleJD)) != 0 :\n",
    "        spottedMods += [aPythonMod]"
   ]
  },
  {
   "cell_type": "markdown",
   "metadata": {},
   "source": [
    "['pandas', 'scikit-learn']"
   ]
  },
  {
   "cell_type": "markdown",
   "metadata": {},
   "source": [
    "Some regular expressions are also very hard to maintain due to its syntax...<br/>\n",
    "Imagine debugging the following regular expression..<br/>\n",
    "Not to mention crafting each regular expression for each concept we want to extract<br/>"
   ]
  },
  {
   "cell_type": "code",
   "execution_count": 28,
   "metadata": {},
   "outputs": [],
   "source": [
    "emailExtractionRE = re.compile(\"([a-zA-Z0-9_.+-]+@[a-zA-Z0-9-]+\\.[a-zA-Z0-9-.]+$)\")"
   ]
  },
  {
   "cell_type": "code",
   "execution_count": 29,
   "metadata": {},
   "outputs": [
    {
     "data": {
      "text/plain": [
       "['weixuan@jobtech.sg']"
      ]
     },
     "execution_count": 29,
     "metadata": {},
     "output_type": "execute_result"
    }
   ],
   "source": [
    "emailExtractionRE.findall(\"You can find me at weixuan@jobtech.sg\")"
   ]
  },
  {
   "cell_type": "markdown",
   "metadata": {},
   "source": [
    "### Regular Expression Summary:\n",
    "\n",
    "Main Advantage:\n",
    "* Powerful. Pattern matching gives alot of flexibility\n",
    "\n",
    "Main Disadvantages:\n",
    "* Non-scalable\n",
    " * Code maintainability\n",
    " * Pattern match complexity\n",
    " \n",
    " "
   ]
  },
  {
   "cell_type": "code",
   "execution_count": null,
   "metadata": {},
   "outputs": [],
   "source": []
  },
  {
   "cell_type": "markdown",
   "metadata": {},
   "source": [
    "## Flashtext\n",
    "A fairly new package has been introduced into Python which leverages on a Trie https://en.wikipedia.org/wiki/Trie\n",
    "in order to improve search timings. <br/>\n",
    "<i>Computer Science people may recall learning about Trie-s from <b>Data Structures and Algorithms</b></i>\n",
    "\n",
    "This strategy scales very well for working with larger dictionaries and extraction across larger datasets. <br/>\n",
    "A very good explanation and analysis can be found in the author's article:\n",
    "https://medium.freecodecamp.org/regex-was-taking-5-days-flashtext-does-it-in-15-minutes-55f04411025f"
   ]
  },
  {
   "cell_type": "code",
   "execution_count": 30,
   "metadata": {},
   "outputs": [],
   "source": [
    "import flashtext"
   ]
  },
  {
   "cell_type": "code",
   "execution_count": 31,
   "metadata": {},
   "outputs": [],
   "source": [
    "# prepare the flashtext Keyword processer by loading in the dictionary of terms in.\n",
    "kwProcessor = flashtext.KeywordProcessor()\n",
    "for aPythonMod in popularPythonPackages:\n",
    "    kwProcessor.add_keyword(aPythonMod)\n",
    "\n",
    "# we do the same for the full listing of python modules too. We will need it later\n",
    "pypiKWProcessor = flashtext.KeywordProcessor()\n",
    "for aPythonMod in allPipPackages:\n",
    "    pypiKWProcessor.add_keyword(aPythonMod)"
   ]
  },
  {
   "cell_type": "markdown",
   "metadata": {},
   "source": [
    "Let's do a quick comparison on how well this scales on larger term dictionaries"
   ]
  },
  {
   "cell_type": "code",
   "execution_count": 32,
   "metadata": {},
   "outputs": [
    {
     "data": {
      "text/plain": [
       "(360, 136993)"
      ]
     },
     "execution_count": 32,
     "metadata": {},
     "output_type": "execute_result"
    }
   ],
   "source": [
    "len(kwProcessor), len(pypiKWProcessor)"
   ]
  },
  {
   "cell_type": "code",
   "execution_count": 33,
   "metadata": {},
   "outputs": [
    {
     "name": "stdout",
     "output_type": "stream",
     "text": [
      "475 µs ± 19.9 µs per loop (mean ± std. dev. of 7 runs, 100 loops each)\n"
     ]
    }
   ],
   "source": [
    "%%timeit -n100\n",
    "spottedMods = kwProcessor.extract_keywords(sampleJD)"
   ]
  },
  {
   "cell_type": "code",
   "execution_count": 34,
   "metadata": {},
   "outputs": [
    {
     "name": "stdout",
     "output_type": "stream",
     "text": [
      "653 µs ± 34.1 µs per loop (mean ± std. dev. of 7 runs, 100 loops each)\n"
     ]
    }
   ],
   "source": [
    "%%timeit -n100\n",
    "spottedMods = pypiKWProcessor.extract_keywords(sampleJD)"
   ]
  },
  {
   "cell_type": "markdown",
   "metadata": {},
   "source": [
    "Look like it scales very well! There must be some drawback right?"
   ]
  },
  {
   "cell_type": "code",
   "execution_count": 35,
   "metadata": {},
   "outputs": [
    {
     "data": {
      "text/plain": [
       "True"
      ]
     },
     "execution_count": 35,
     "metadata": {},
     "output_type": "execute_result"
    }
   ],
   "source": [
    "# before we do that, let's just add in a variant into the keyword processor.\n",
    "kwProcessor.add_keyword(\"scikit learn\")"
   ]
  },
  {
   "cell_type": "code",
   "execution_count": 36,
   "metadata": {},
   "outputs": [
    {
     "data": {
      "text/plain": [
       "['scikit learn']"
      ]
     },
     "execution_count": 36,
     "metadata": {},
     "output_type": "execute_result"
    }
   ],
   "source": [
    "kwProcessor.extract_keywords(\"I have learnt about scikit learn from data science 101\")"
   ]
  },
  {
   "cell_type": "code",
   "execution_count": 37,
   "metadata": {},
   "outputs": [
    {
     "data": {
      "text/plain": [
       "[]"
      ]
     },
     "execution_count": 37,
     "metadata": {},
     "output_type": "execute_result"
    }
   ],
   "source": [
    "kwProcessor.extract_keywords(\"I have learnt about scikit  learn from data science 101\")"
   ]
  },
  {
   "cell_type": "markdown",
   "metadata": {},
   "source": [
    "Luckily, we have a quick hack solution for this"
   ]
  },
  {
   "cell_type": "code",
   "execution_count": 38,
   "metadata": {},
   "outputs": [],
   "source": [
    "# we shall use regular expressions to preprocess the data.\n",
    "whitespaceEliminationRe = re.compile(\"\\s+\")\n"
   ]
  },
  {
   "cell_type": "code",
   "execution_count": 39,
   "metadata": {},
   "outputs": [],
   "source": [
    "rawText = \"I have learnt about scikit             learn from data science 101\"\n",
    "\n",
    "# All multiple whitespace will be removed and replaced by just 1 space\n",
    "cleanedText = whitespaceEliminationRe.sub(\" \", rawText)"
   ]
  },
  {
   "cell_type": "code",
   "execution_count": 40,
   "metadata": {},
   "outputs": [
    {
     "data": {
      "text/plain": [
       "'I have learnt about scikit learn from data science 101'"
      ]
     },
     "execution_count": 40,
     "metadata": {},
     "output_type": "execute_result"
    }
   ],
   "source": [
    "cleanedText"
   ]
  },
  {
   "cell_type": "code",
   "execution_count": 41,
   "metadata": {},
   "outputs": [
    {
     "data": {
      "text/plain": [
       "['scikit learn']"
      ]
     },
     "execution_count": 41,
     "metadata": {},
     "output_type": "execute_result"
    }
   ],
   "source": [
    "kwProcessor.extract_keywords(cleanedText)"
   ]
  },
  {
   "cell_type": "markdown",
   "metadata": {},
   "source": [
    "### Flashtext Summary\n",
    "\n",
    "Main Advantage:\n",
    "* Scales well\n",
    "\n",
    "Main Disadvantage:\n",
    "* Not as flexible as regular expressions"
   ]
  },
  {
   "cell_type": "markdown",
   "metadata": {},
   "source": [
    "## FlashText vs Regex Performance\n",
    "\n",
    "Source: Vikash Singh - https://medium.freecodecamp.org/regex-was-taking-5-days-flashtext-does-it-in-15-minutes-55f04411025f\n"
   ]
  },
  {
   "cell_type": "code",
   "execution_count": 42,
   "metadata": {},
   "outputs": [
    {
     "data": {
      "text/html": [
       "<img src=\"https://cdn-images-1.medium.com/max/800/1*_wjTfRdsnLKGnbr4VJ4Xqw.png\"/>"
      ],
      "text/plain": [
       "<IPython.core.display.Image object>"
      ]
     },
     "execution_count": 42,
     "metadata": {},
     "output_type": "execute_result"
    }
   ],
   "source": [
    "from IPython.display import Image\n",
    "from IPython.core.display import HTML \n",
    "Image(url= \"https://cdn-images-1.medium.com/max/800/1*_wjTfRdsnLKGnbr4VJ4Xqw.png\")"
   ]
  },
  {
   "cell_type": "code",
   "execution_count": null,
   "metadata": {},
   "outputs": [],
   "source": []
  },
  {
   "cell_type": "markdown",
   "metadata": {},
   "source": [
    "# Other Notes and Links\n",
    "\n",
    "Information Extraction can come in other forms such as Named Entity Recognition. https://nlpforhackers.io/named-entity-extraction/<br/>\n",
    "However, Named Entity Chunkers requires a model to be trained to recognize the concepts from text. <br/>\n",
    "The process of annotation for the body of documents is a very time consuming and tedious process. <br/>\n",
    "\n",
    "With the dictionary based matching introduced; you will notice that there are many falsely extracted terms. <br/>\n",
    "Some strategies involve checking the context of the term extracted and work pretty well. Do approach us after to discuss if you face similar challenges! <br/>\n",
    "\n",
    "\n",
    "\n"
   ]
  },
  {
   "cell_type": "code",
   "execution_count": null,
   "metadata": {},
   "outputs": [],
   "source": []
  },
  {
   "cell_type": "code",
   "execution_count": null,
   "metadata": {},
   "outputs": [],
   "source": []
  },
  {
   "cell_type": "code",
   "execution_count": null,
   "metadata": {},
   "outputs": [],
   "source": []
  },
  {
   "cell_type": "code",
   "execution_count": null,
   "metadata": {},
   "outputs": [],
   "source": []
  },
  {
   "cell_type": "code",
   "execution_count": null,
   "metadata": {},
   "outputs": [],
   "source": []
  }
 ],
 "metadata": {
  "kernelspec": {
   "display_name": "Python 3",
   "language": "python",
   "name": "python3"
  },
  "language_info": {
   "codemirror_mode": {
    "name": "ipython",
    "version": 3
   },
   "file_extension": ".py",
   "mimetype": "text/x-python",
   "name": "python",
   "nbconvert_exporter": "python",
   "pygments_lexer": "ipython3",
   "version": "3.6.3"
  }
 },
 "nbformat": 4,
 "nbformat_minor": 2
}
